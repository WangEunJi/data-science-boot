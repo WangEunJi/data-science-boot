{
 "cells": [
  {
   "cell_type": "markdown",
   "id": "8d7bac1b",
   "metadata": {},
   "source": [
    "# Exercise 2 - Notebook Title\n",
    "# My JupyterLite Notebook"
   ]
  },
  {
   "cell_type": "markdown",
   "id": "49e4e94a",
   "metadata": {},
   "source": [
    "Welcome to my Jupyter Notebook! this is introduction\n"
   ]
  },
  {
   "cell_type": "markdown",
   "id": "522f3b1b",
   "metadata": {},
   "source": [
    " Data Science Languages\n",
    "\n",
    "1. Python\n",
    "2. R\n",
    "3. Julia"
   ]
  },
  {
   "cell_type": "markdown",
   "id": "1d648183",
   "metadata": {},
   "source": [
    "Data Science Libraries\n",
    "\n",
    "1. NumPy\n",
    "2. Pandas\n",
    "3. Matplotlib"
   ]
  },
  {
   "cell_type": "markdown",
   "id": "bb74cf85",
   "metadata": {},
   "source": [
    "Data Science Tools\n",
    "\n",
    "| Tool          | Description                |\n",
    "| ------------- | -------------------------- |\n",
    "| Jupyter       | Interactive Notebooks      |\n",
    "| TensorFlow    | Machine Learning Library   |\n",
    "| scikit-learn  | Machine Learning Toolkit   |\n"
   ]
  },
  {
   "cell_type": "markdown",
   "id": "11620322",
   "metadata": {},
   "source": [
    "Arithmetic Expressions\n",
    "\n",
    "In this section, we'll explore some basic arithmetic operations using Python"
   ]
  },
  {
   "cell_type": "code",
   "execution_count": 3,
   "id": "e00ec5ed",
   "metadata": {},
   "outputs": [
    {
     "data": {
      "text/plain": [
       "(50, 15)"
      ]
     },
     "execution_count": 3,
     "metadata": {},
     "output_type": "execute_result"
    }
   ],
   "source": [
    "# Exercise 8 - Multiply and Add Numbers\n",
    "# Create a code cell to multiply and add numbers.\n",
    "result_multiply = 5 * 10\n",
    "result_add = 5 + 10\n",
    "\n",
    "result_multiply, result_add"
   ]
  },
  {
   "cell_type": "code",
   "execution_count": 4,
   "id": "4e415e58",
   "metadata": {},
   "outputs": [
    {
     "data": {
      "text/plain": [
       "2.0"
      ]
     },
     "execution_count": 4,
     "metadata": {},
     "output_type": "execute_result"
    }
   ],
   "source": [
    "# Exercise 9 - Convert Minutes to Hours\n",
    "# Create a code cell to convert minutes to hours.\n",
    "minutes = 120\n",
    "hours = minutes / 60\n",
    "\n",
    "hours"
   ]
  },
  {
   "cell_type": "markdown",
   "id": "547b8ec9",
   "metadata": {},
   "source": [
    "Exercise 10 - Objectives\n",
    "Insert a markdown cell to list Objectives.\n",
    "\n",
    "\n",
    "1. Understand basic data science languages.\n",
    "2. Familiarize with essential data science libraries.\n",
    "3. Explore common data science tools.\n",
    "4. Practice basic arithmetic operations in Python."
   ]
  },
  {
   "cell_type": "markdown",
   "id": "b6861e96",
   "metadata": {},
   "source": [
    "---by Eunji Wang"
   ]
  },
  {
   "cell_type": "code",
   "execution_count": null,
   "id": "b783c415",
   "metadata": {},
   "outputs": [],
   "source": []
  },
  {
   "cell_type": "code",
   "execution_count": null,
   "id": "74b90361",
   "metadata": {},
   "outputs": [],
   "source": []
  },
  {
   "cell_type": "code",
   "execution_count": null,
   "id": "406e46a5",
   "metadata": {},
   "outputs": [],
   "source": []
  },
  {
   "cell_type": "code",
   "execution_count": null,
   "id": "ed087238",
   "metadata": {},
   "outputs": [],
   "source": []
  },
  {
   "cell_type": "code",
   "execution_count": null,
   "id": "c56594e0",
   "metadata": {},
   "outputs": [],
   "source": []
  }
 ],
 "metadata": {
  "kernelspec": {
   "display_name": "Python 3 (ipykernel)",
   "language": "python",
   "name": "python3"
  },
  "language_info": {
   "codemirror_mode": {
    "name": "ipython",
    "version": 3
   },
   "file_extension": ".py",
   "mimetype": "text/x-python",
   "name": "python",
   "nbconvert_exporter": "python",
   "pygments_lexer": "ipython3",
   "version": "3.9.7"
  }
 },
 "nbformat": 4,
 "nbformat_minor": 5
}
